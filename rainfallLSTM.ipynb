{
 "cells": [
  {
   "cell_type": "code",
   "execution_count": 1,
   "id": "576b430f",
   "metadata": {},
   "outputs": [],
   "source": [
    "import pandas as pd\n",
    "import numpy as np\n",
    "import matplotlib.pyplot as plt"
   ]
  },
  {
   "cell_type": "code",
   "execution_count": 2,
   "id": "60af5d62",
   "metadata": {},
   "outputs": [
    {
     "data": {
      "text/html": [
       "<div>\n",
       "<style scoped>\n",
       "    .dataframe tbody tr th:only-of-type {\n",
       "        vertical-align: middle;\n",
       "    }\n",
       "\n",
       "    .dataframe tbody tr th {\n",
       "        vertical-align: top;\n",
       "    }\n",
       "\n",
       "    .dataframe thead th {\n",
       "        text-align: right;\n",
       "    }\n",
       "</style>\n",
       "<table border=\"1\" class=\"dataframe\">\n",
       "  <thead>\n",
       "    <tr style=\"text-align: right;\">\n",
       "      <th></th>\n",
       "      <th>date</th>\n",
       "      <th>rainfall</th>\n",
       "    </tr>\n",
       "  </thead>\n",
       "  <tbody>\n",
       "    <tr>\n",
       "      <th>0</th>\n",
       "      <td>01-01-2010</td>\n",
       "      <td>2.9</td>\n",
       "    </tr>\n",
       "    <tr>\n",
       "      <th>1</th>\n",
       "      <td>02-01-2010</td>\n",
       "      <td>10.2</td>\n",
       "    </tr>\n",
       "    <tr>\n",
       "      <th>2</th>\n",
       "      <td>03-01-2010</td>\n",
       "      <td>0.9</td>\n",
       "    </tr>\n",
       "    <tr>\n",
       "      <th>3</th>\n",
       "      <td>04-01-2010</td>\n",
       "      <td>48.6</td>\n",
       "    </tr>\n",
       "    <tr>\n",
       "      <th>4</th>\n",
       "      <td>05-01-2010</td>\n",
       "      <td>9.6</td>\n",
       "    </tr>\n",
       "    <tr>\n",
       "      <th>...</th>\n",
       "      <td>...</td>\n",
       "      <td>...</td>\n",
       "    </tr>\n",
       "    <tr>\n",
       "      <th>3769</th>\n",
       "      <td>27-04-2020</td>\n",
       "      <td>0.0</td>\n",
       "    </tr>\n",
       "    <tr>\n",
       "      <th>3770</th>\n",
       "      <td>28-04-2020</td>\n",
       "      <td>8.4</td>\n",
       "    </tr>\n",
       "    <tr>\n",
       "      <th>3771</th>\n",
       "      <td>29-04-2020</td>\n",
       "      <td>5.4</td>\n",
       "    </tr>\n",
       "    <tr>\n",
       "      <th>3772</th>\n",
       "      <td>30-04-2020</td>\n",
       "      <td>3.2</td>\n",
       "    </tr>\n",
       "    <tr>\n",
       "      <th>3773</th>\n",
       "      <td>01-05-2020</td>\n",
       "      <td>5.2</td>\n",
       "    </tr>\n",
       "  </tbody>\n",
       "</table>\n",
       "<p>3774 rows × 2 columns</p>\n",
       "</div>"
      ],
      "text/plain": [
       "            date  rainfall\n",
       "0     01-01-2010       2.9\n",
       "1     02-01-2010      10.2\n",
       "2     03-01-2010       0.9\n",
       "3     04-01-2010      48.6\n",
       "4     05-01-2010       9.6\n",
       "...          ...       ...\n",
       "3769  27-04-2020       0.0\n",
       "3770  28-04-2020       8.4\n",
       "3771  29-04-2020       5.4\n",
       "3772  30-04-2020       3.2\n",
       "3773  01-05-2020       5.2\n",
       "\n",
       "[3774 rows x 2 columns]"
      ]
     },
     "execution_count": 2,
     "metadata": {},
     "output_type": "execute_result"
    }
   ],
   "source": [
    "df=pd.read_csv(r\"C:\\Users\\nikit\\OneDrive\\Desktop\\PDF\\DL\\rainfall.csv\")\n",
    "df"
   ]
  },
  {
   "cell_type": "code",
   "execution_count": 3,
   "id": "fca65038",
   "metadata": {},
   "outputs": [
    {
     "data": {
      "text/plain": [
       "(3774, 2)"
      ]
     },
     "execution_count": 3,
     "metadata": {},
     "output_type": "execute_result"
    }
   ],
   "source": [
    "df.shape"
   ]
  },
  {
   "cell_type": "code",
   "execution_count": 4,
   "id": "6a372896",
   "metadata": {},
   "outputs": [],
   "source": [
    "from sklearn.preprocessing import MinMaxScaler\n",
    "from tensorflow.keras.models import Sequential\n",
    "from tensorflow.keras.layers import LSTM,Dropout,Dense"
   ]
  },
  {
   "cell_type": "code",
   "execution_count": 5,
   "id": "ddc4ed89",
   "metadata": {},
   "outputs": [
    {
     "data": {
      "text/plain": [
       "array([[ 2.9],\n",
       "       [10.2],\n",
       "       [ 0.9],\n",
       "       ...,\n",
       "       [ 5.4],\n",
       "       [ 3.2],\n",
       "       [ 5.2]])"
      ]
     },
     "execution_count": 5,
     "metadata": {},
     "output_type": "execute_result"
    }
   ],
   "source": [
    "training_set = df.iloc[:, 1:2].values\n",
    "training_set"
   ]
  },
  {
   "cell_type": "code",
   "execution_count": 6,
   "id": "10b32cf1",
   "metadata": {},
   "outputs": [
    {
     "data": {
      "text/plain": [
       "(3774, 1)"
      ]
     },
     "execution_count": 6,
     "metadata": {},
     "output_type": "execute_result"
    }
   ],
   "source": [
    "training_set.shape"
   ]
  },
  {
   "cell_type": "code",
   "execution_count": 7,
   "id": "91289511",
   "metadata": {},
   "outputs": [],
   "source": [
    "sc = MinMaxScaler(feature_range = (0, 1))\n",
    "training_scaled = sc.fit_transform(training_set)"
   ]
  },
  {
   "cell_type": "code",
   "execution_count": 8,
   "id": "59b4bcd3",
   "metadata": {},
   "outputs": [],
   "source": [
    "X_train = []\n",
    "y_train = []\n",
    "for i in range(30, 3774):\n",
    "    X_train.append(training_scaled[i-30:i, 0])\n",
    "    y_train.append(training_scaled[i, 0])"
   ]
  },
  {
   "cell_type": "code",
   "execution_count": 9,
   "id": "6ae457a6",
   "metadata": {},
   "outputs": [],
   "source": [
    "X_train, y_train = np.array(X_train), np.array(y_train)"
   ]
  },
  {
   "cell_type": "code",
   "execution_count": 10,
   "id": "a5e62373",
   "metadata": {},
   "outputs": [
    {
     "data": {
      "text/plain": [
       "((3744, 30), (3744,))"
      ]
     },
     "execution_count": 10,
     "metadata": {},
     "output_type": "execute_result"
    }
   ],
   "source": [
    "X_train.shape, y_train.shape"
   ]
  },
  {
   "cell_type": "code",
   "execution_count": 11,
   "id": "f6ce5012",
   "metadata": {},
   "outputs": [],
   "source": [
    "X_train = np.reshape(X_train, newshape = (X_train.shape[0], X_train.shape[1], 1))"
   ]
  },
  {
   "cell_type": "code",
   "execution_count": 12,
   "id": "5b07deef",
   "metadata": {},
   "outputs": [
    {
     "data": {
      "text/plain": [
       "((3744, 30, 1), (3744,))"
      ]
     },
     "execution_count": 12,
     "metadata": {},
     "output_type": "execute_result"
    }
   ],
   "source": [
    "X_train.shape, y_train.shape"
   ]
  },
  {
   "cell_type": "code",
   "execution_count": 14,
   "id": "e7fab3f7",
   "metadata": {},
   "outputs": [
    {
     "name": "stdout",
     "output_type": "stream",
     "text": [
      "Model: \"sequential_1\"\n",
      "_________________________________________________________________\n",
      " Layer (type)                Output Shape              Param #   \n",
      "=================================================================\n",
      " lstm_4 (LSTM)               (None, 30, 30)            3840      \n",
      "                                                                 \n",
      " dropout_4 (Dropout)         (None, 30, 30)            0         \n",
      "                                                                 \n",
      " lstm_5 (LSTM)               (None, 30, 30)            7320      \n",
      "                                                                 \n",
      " dropout_5 (Dropout)         (None, 30, 30)            0         \n",
      "                                                                 \n",
      " lstm_6 (LSTM)               (None, 30, 30)            7320      \n",
      "                                                                 \n",
      " dropout_6 (Dropout)         (None, 30, 30)            0         \n",
      "                                                                 \n",
      " lstm_7 (LSTM)               (None, 30)                7320      \n",
      "                                                                 \n",
      " dropout_7 (Dropout)         (None, 30)                0         \n",
      "                                                                 \n",
      " dense_1 (Dense)             (None, 1)                 31        \n",
      "                                                                 \n",
      "=================================================================\n",
      "Total params: 25,831\n",
      "Trainable params: 25,831\n",
      "Non-trainable params: 0\n",
      "_________________________________________________________________\n"
     ]
    }
   ],
   "source": [
    "model2=Sequential()\n",
    "model2.add(LSTM(units=30,return_sequences=True,input_shape=(X_train.shape[1],1)))\n",
    "model2.add(Dropout(0.2))\n",
    "\n",
    "model2.add(LSTM(units = 30, return_sequences = True))\n",
    "model2.add(Dropout(0.2))\n",
    "\n",
    "model2.add(LSTM(units = 30, return_sequences = True))\n",
    "model2.add(Dropout(rate = 0.2))\n",
    "\n",
    "model2.add(LSTM(units = 30, return_sequences = False))\n",
    "model2.add(Dropout(rate = 0.2))\n",
    "\n",
    "model2.add(Dense(units = 1))\n",
    "\n",
    "model2.compile(optimizer = 'adam', loss = 'mean_squared_error',metrics=['accuracy'])\n",
    "model2.summary()\n"
   ]
  },
  {
   "cell_type": "code",
   "execution_count": 15,
   "id": "ef9c86e2",
   "metadata": {},
   "outputs": [
    {
     "name": "stdout",
     "output_type": "stream",
     "text": [
      "Epoch 1/30\n",
      "117/117 [==============================] - 7s 23ms/step - loss: 0.0084 - accuracy: 0.4041\n",
      "Epoch 2/30\n",
      "117/117 [==============================] - 3s 25ms/step - loss: 0.0083 - accuracy: 0.4041\n",
      "Epoch 3/30\n",
      "117/117 [==============================] - 3s 24ms/step - loss: 0.0083 - accuracy: 0.4041\n",
      "Epoch 4/30\n",
      "117/117 [==============================] - 3s 24ms/step - loss: 0.0083 - accuracy: 0.4041\n",
      "Epoch 5/30\n",
      "117/117 [==============================] - 3s 25ms/step - loss: 0.0083 - accuracy: 0.4041\n",
      "Epoch 6/30\n",
      "117/117 [==============================] - 3s 26ms/step - loss: 0.0082 - accuracy: 0.4041\n",
      "Epoch 7/30\n",
      "117/117 [==============================] - 3s 29ms/step - loss: 0.0082 - accuracy: 0.4041\n",
      "Epoch 8/30\n",
      "117/117 [==============================] - 3s 28ms/step - loss: 0.0082 - accuracy: 0.4041\n",
      "Epoch 9/30\n",
      "117/117 [==============================] - 3s 28ms/step - loss: 0.0082 - accuracy: 0.4041\n",
      "Epoch 10/30\n",
      "117/117 [==============================] - 4s 31ms/step - loss: 0.0082 - accuracy: 0.4041\n",
      "Epoch 11/30\n",
      "117/117 [==============================] - 3s 29ms/step - loss: 0.0082 - accuracy: 0.4041\n",
      "Epoch 12/30\n",
      "117/117 [==============================] - 4s 31ms/step - loss: 0.0082 - accuracy: 0.4041\n",
      "Epoch 13/30\n",
      "117/117 [==============================] - 3s 28ms/step - loss: 0.0082 - accuracy: 0.4041\n",
      "Epoch 14/30\n",
      "117/117 [==============================] - 3s 29ms/step - loss: 0.0082 - accuracy: 0.4041\n",
      "Epoch 15/30\n",
      "117/117 [==============================] - 4s 30ms/step - loss: 0.0082 - accuracy: 0.4041\n",
      "Epoch 16/30\n",
      "117/117 [==============================] - 3s 29ms/step - loss: 0.0082 - accuracy: 0.4041\n",
      "Epoch 17/30\n",
      "117/117 [==============================] - 3s 29ms/step - loss: 0.0082 - accuracy: 0.4041\n",
      "Epoch 18/30\n",
      "117/117 [==============================] - 4s 30ms/step - loss: 0.0082 - accuracy: 0.4041\n",
      "Epoch 19/30\n",
      "117/117 [==============================] - 3s 28ms/step - loss: 0.0082 - accuracy: 0.4041\n",
      "Epoch 20/30\n",
      "117/117 [==============================] - 4s 30ms/step - loss: 0.0081 - accuracy: 0.4041\n",
      "Epoch 21/30\n",
      "117/117 [==============================] - 4s 33ms/step - loss: 0.0082 - accuracy: 0.4041\n",
      "Epoch 22/30\n",
      "117/117 [==============================] - 4s 30ms/step - loss: 0.0081 - accuracy: 0.4041\n",
      "Epoch 23/30\n",
      "117/117 [==============================] - 3s 30ms/step - loss: 0.0081 - accuracy: 0.4041\n",
      "Epoch 24/30\n",
      "117/117 [==============================] - 4s 32ms/step - loss: 0.0081 - accuracy: 0.4041\n",
      "Epoch 25/30\n",
      "117/117 [==============================] - 4s 30ms/step - loss: 0.0081 - accuracy: 0.4041\n",
      "Epoch 26/30\n",
      "117/117 [==============================] - 4s 30ms/step - loss: 0.0082 - accuracy: 0.4041\n",
      "Epoch 27/30\n",
      "117/117 [==============================] - 4s 30ms/step - loss: 0.0081 - accuracy: 0.4041\n",
      "Epoch 28/30\n",
      "117/117 [==============================] - 4s 31ms/step - loss: 0.0082 - accuracy: 0.4041\n",
      "Epoch 29/30\n",
      "117/117 [==============================] - 3s 30ms/step - loss: 0.0082 - accuracy: 0.4041\n",
      "Epoch 30/30\n",
      "117/117 [==============================] - 4s 31ms/step - loss: 0.0081 - accuracy: 0.4041\n"
     ]
    },
    {
     "data": {
      "text/plain": [
       "<keras.callbacks.History at 0x2613dcb7e80>"
      ]
     },
     "execution_count": 15,
     "metadata": {},
     "output_type": "execute_result"
    }
   ],
   "source": [
    "model2.fit(X_train,y_train,batch_size=32,epochs=30)"
   ]
  },
  {
   "cell_type": "code",
   "execution_count": 16,
   "id": "8f4a7977",
   "metadata": {},
   "outputs": [
    {
     "data": {
      "text/html": [
       "<div>\n",
       "<style scoped>\n",
       "    .dataframe tbody tr th:only-of-type {\n",
       "        vertical-align: middle;\n",
       "    }\n",
       "\n",
       "    .dataframe tbody tr th {\n",
       "        vertical-align: top;\n",
       "    }\n",
       "\n",
       "    .dataframe thead th {\n",
       "        text-align: right;\n",
       "    }\n",
       "</style>\n",
       "<table border=\"1\" class=\"dataframe\">\n",
       "  <thead>\n",
       "    <tr style=\"text-align: right;\">\n",
       "      <th></th>\n",
       "      <th>date</th>\n",
       "      <th>rainfall</th>\n",
       "    </tr>\n",
       "  </thead>\n",
       "  <tbody>\n",
       "    <tr>\n",
       "      <th>0</th>\n",
       "      <td>01-01-2010</td>\n",
       "      <td>2.9</td>\n",
       "    </tr>\n",
       "    <tr>\n",
       "      <th>1</th>\n",
       "      <td>02-01-2010</td>\n",
       "      <td>10.2</td>\n",
       "    </tr>\n",
       "    <tr>\n",
       "      <th>2</th>\n",
       "      <td>03-01-2010</td>\n",
       "      <td>0.9</td>\n",
       "    </tr>\n",
       "    <tr>\n",
       "      <th>3</th>\n",
       "      <td>04-01-2010</td>\n",
       "      <td>48.6</td>\n",
       "    </tr>\n",
       "    <tr>\n",
       "      <th>4</th>\n",
       "      <td>05-01-2010</td>\n",
       "      <td>9.6</td>\n",
       "    </tr>\n",
       "    <tr>\n",
       "      <th>...</th>\n",
       "      <td>...</td>\n",
       "      <td>...</td>\n",
       "    </tr>\n",
       "    <tr>\n",
       "      <th>3769</th>\n",
       "      <td>NaN</td>\n",
       "      <td>NaN</td>\n",
       "    </tr>\n",
       "    <tr>\n",
       "      <th>3770</th>\n",
       "      <td>NaN</td>\n",
       "      <td>NaN</td>\n",
       "    </tr>\n",
       "    <tr>\n",
       "      <th>3771</th>\n",
       "      <td>NaN</td>\n",
       "      <td>NaN</td>\n",
       "    </tr>\n",
       "    <tr>\n",
       "      <th>3772</th>\n",
       "      <td>NaN</td>\n",
       "      <td>NaN</td>\n",
       "    </tr>\n",
       "    <tr>\n",
       "      <th>3773</th>\n",
       "      <td>01-05-2020</td>\n",
       "      <td>5.2</td>\n",
       "    </tr>\n",
       "  </tbody>\n",
       "</table>\n",
       "<p>3774 rows × 2 columns</p>\n",
       "</div>"
      ],
      "text/plain": [
       "            date  rainfall\n",
       "0     01-01-2010       2.9\n",
       "1     02-01-2010      10.2\n",
       "2     03-01-2010       0.9\n",
       "3     04-01-2010      48.6\n",
       "4     05-01-2010       9.6\n",
       "...          ...       ...\n",
       "3769         NaN       NaN\n",
       "3770         NaN       NaN\n",
       "3771         NaN       NaN\n",
       "3772         NaN       NaN\n",
       "3773  01-05-2020       5.2\n",
       "\n",
       "[3774 rows x 2 columns]"
      ]
     },
     "execution_count": 16,
     "metadata": {},
     "output_type": "execute_result"
    }
   ],
   "source": [
    "test=pd.read_csv(r\"C:\\Users\\nikit\\OneDrive\\Desktop\\PDF\\IS\\rainfalltest.csv\")\n",
    "test"
   ]
  },
  {
   "cell_type": "code",
   "execution_count": 17,
   "id": "31c82729",
   "metadata": {},
   "outputs": [
    {
     "data": {
      "text/html": [
       "<div>\n",
       "<style scoped>\n",
       "    .dataframe tbody tr th:only-of-type {\n",
       "        vertical-align: middle;\n",
       "    }\n",
       "\n",
       "    .dataframe tbody tr th {\n",
       "        vertical-align: top;\n",
       "    }\n",
       "\n",
       "    .dataframe thead th {\n",
       "        text-align: right;\n",
       "    }\n",
       "</style>\n",
       "<table border=\"1\" class=\"dataframe\">\n",
       "  <thead>\n",
       "    <tr style=\"text-align: right;\">\n",
       "      <th></th>\n",
       "      <th>date</th>\n",
       "      <th>rainfall</th>\n",
       "    </tr>\n",
       "  </thead>\n",
       "  <tbody>\n",
       "    <tr>\n",
       "      <th>0</th>\n",
       "      <td>01-01-2010</td>\n",
       "      <td>2.9</td>\n",
       "    </tr>\n",
       "    <tr>\n",
       "      <th>1</th>\n",
       "      <td>02-01-2010</td>\n",
       "      <td>10.2</td>\n",
       "    </tr>\n",
       "    <tr>\n",
       "      <th>2</th>\n",
       "      <td>03-01-2010</td>\n",
       "      <td>0.9</td>\n",
       "    </tr>\n",
       "    <tr>\n",
       "      <th>3</th>\n",
       "      <td>04-01-2010</td>\n",
       "      <td>48.6</td>\n",
       "    </tr>\n",
       "    <tr>\n",
       "      <th>4</th>\n",
       "      <td>05-01-2010</td>\n",
       "      <td>9.6</td>\n",
       "    </tr>\n",
       "    <tr>\n",
       "      <th>...</th>\n",
       "      <td>...</td>\n",
       "      <td>...</td>\n",
       "    </tr>\n",
       "    <tr>\n",
       "      <th>995</th>\n",
       "      <td>22-09-2012</td>\n",
       "      <td>0.0</td>\n",
       "    </tr>\n",
       "    <tr>\n",
       "      <th>996</th>\n",
       "      <td>23-09-2012</td>\n",
       "      <td>0.0</td>\n",
       "    </tr>\n",
       "    <tr>\n",
       "      <th>997</th>\n",
       "      <td>24-09-2012</td>\n",
       "      <td>0.0</td>\n",
       "    </tr>\n",
       "    <tr>\n",
       "      <th>998</th>\n",
       "      <td>25-09-2012</td>\n",
       "      <td>0.0</td>\n",
       "    </tr>\n",
       "    <tr>\n",
       "      <th>3773</th>\n",
       "      <td>01-05-2020</td>\n",
       "      <td>5.2</td>\n",
       "    </tr>\n",
       "  </tbody>\n",
       "</table>\n",
       "<p>1000 rows × 2 columns</p>\n",
       "</div>"
      ],
      "text/plain": [
       "            date  rainfall\n",
       "0     01-01-2010       2.9\n",
       "1     02-01-2010      10.2\n",
       "2     03-01-2010       0.9\n",
       "3     04-01-2010      48.6\n",
       "4     05-01-2010       9.6\n",
       "...          ...       ...\n",
       "995   22-09-2012       0.0\n",
       "996   23-09-2012       0.0\n",
       "997   24-09-2012       0.0\n",
       "998   25-09-2012       0.0\n",
       "3773  01-05-2020       5.2\n",
       "\n",
       "[1000 rows x 2 columns]"
      ]
     },
     "execution_count": 17,
     "metadata": {},
     "output_type": "execute_result"
    }
   ],
   "source": [
    "test.dropna()"
   ]
  },
  {
   "cell_type": "code",
   "execution_count": 18,
   "id": "6c58302c",
   "metadata": {},
   "outputs": [],
   "source": [
    "real_rain = test.iloc[:, 1:2].values"
   ]
  },
  {
   "cell_type": "code",
   "execution_count": 19,
   "id": "7ec4398d",
   "metadata": {},
   "outputs": [],
   "source": [
    "dataset_total = pd.concat((df['rainfall'], test['rainfall']), axis = 0)"
   ]
  },
  {
   "cell_type": "code",
   "execution_count": 20,
   "id": "a59db2c5",
   "metadata": {},
   "outputs": [
    {
     "data": {
      "text/plain": [
       "(7548, 3774)"
      ]
     },
     "execution_count": 20,
     "metadata": {},
     "output_type": "execute_result"
    }
   ],
   "source": [
    "len(dataset_total),len(test)"
   ]
  },
  {
   "cell_type": "code",
   "execution_count": 21,
   "id": "5ff029cc",
   "metadata": {},
   "outputs": [],
   "source": [
    "inputs = dataset_total[len(dataset_total) - len(test) - 30:].values"
   ]
  },
  {
   "cell_type": "code",
   "execution_count": 22,
   "id": "8c561b01",
   "metadata": {},
   "outputs": [],
   "source": [
    "inputs = inputs.reshape(-1,1)\n",
    "inputs = sc.transform(inputs)\n"
   ]
  },
  {
   "cell_type": "code",
   "execution_count": 23,
   "id": "73ab4504",
   "metadata": {},
   "outputs": [],
   "source": [
    "X_test = []\n",
    "\n",
    "for i in range(30, 1030):\n",
    "    X_test.append(inputs[i-30:i, 0])"
   ]
  },
  {
   "cell_type": "code",
   "execution_count": 24,
   "id": "9fc46868",
   "metadata": {},
   "outputs": [],
   "source": [
    "X_test = np.array(X_test)\n",
    "# Reshape to a new dimension\n",
    "X_test = np.reshape(X_test, (X_test.shape[0], X_test.shape[1], 1))\n"
   ]
  },
  {
   "cell_type": "code",
   "execution_count": 26,
   "id": "9b4e3dc6",
   "metadata": {},
   "outputs": [
    {
     "name": "stdout",
     "output_type": "stream",
     "text": [
      "32/32 [==============================] - 0s 10ms/step\n"
     ]
    }
   ],
   "source": [
    "predicted_rain = model2.predict(X_test)\n",
    "predicted_rain1 = sc.inverse_transform(predicted_rain)"
   ]
  },
  {
   "cell_type": "code",
   "execution_count": 28,
   "id": "10536abe",
   "metadata": {},
   "outputs": [
    {
     "data": {
      "image/png": "[encoded data removed]",
      "text/plain": [
       "<Figure size 432x288 with 1 Axes>"
      ]
     },
     "metadata": {
      "needs_background": "light"
     },
     "output_type": "display_data"
    }
   ],
   "source": [
    "plt.plot(real_rain, color = 'red', label = 'Real rain')\n",
    "plt.plot(predicted_rain1, color = 'blue', label = 'Predicted rain')\n",
    "plt.title('Rainfall prediction')\n",
    "plt.xlabel('Time')\n",
    "plt.ylabel('rain')\n",
    "plt.legend()\n",
    "plt.show()"
   ]
  },
  {
   "cell_type": "code",
   "execution_count": 29,
   "id": "7aa83cab",
   "metadata": {},
   "outputs": [
    {
     "name": "stdout",
     "output_type": "stream",
     "text": [
      "117/117 [==============================] - 3s 11ms/step - loss: 0.0081 - accuracy: 0.4041\n"
     ]
    },
    {
     "data": {
      "text/plain": [
       "[0.008092397823929787, 0.404113233089447]"
      ]
     },
     "execution_count": 29,
     "metadata": {},
     "output_type": "execute_result"
    }
   ],
   "source": [
    "model2.evaluate(X_train,y_train)"
   ]
  },
  {
   "cell_type": "code",
   "execution_count": null,
   "id": "9be1a6ff",
   "metadata": {},
   "outputs": [],
   "source": []
  }
 ],
 "metadata": {
  "kernelspec": {
   "display_name": "Python 3 (ipykernel)",
   "language": "python",
   "name": "python3"
  },
  "language_info": {
   "codemirror_mode": {
    "name": "ipython",
    "version": 3
   },
   "file_extension": ".py",
   "mimetype": "text/x-python",
   "name": "python",
   "nbconvert_exporter": "python",
   "pygments_lexer": "ipython3",
   "version": "3.9.7"
  }
 },
 "nbformat": 4,
 "nbformat_minor": 5
}
